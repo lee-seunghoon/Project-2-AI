{
 "cells": [
  {
   "cell_type": "code",
   "execution_count": 38,
   "id": "cfe347e8",
   "metadata": {},
   "outputs": [],
   "source": [
    "# DATA_PATH = '../input/'\n",
    "DATA_PATH = './data/'\n",
    "\n",
    "import psutil"
   ]
  },
  {
   "cell_type": "markdown",
   "id": "08d80311",
   "metadata": {},
   "source": [
    "### 라이브러리 모음"
   ]
  },
  {
   "cell_type": "code",
   "execution_count": 2,
   "id": "8188bd91",
   "metadata": {},
   "outputs": [],
   "source": [
    "import numpy as np # linear algebra\n",
    "import pandas as pd # data processing, CSV file I/O (e.g. pd.read_csv)\n",
    "import cv2, matplotlib.pyplot as plt\n",
    "from tqdm import tqdm_notebook\n",
    "import gc\n",
    "\n",
    "def getMetric(col):\n",
    "    def f1score(row):\n",
    "        n = len( np.intersect1d(row.target,row[col]) )\n",
    "        return 2*n / (len(row.target)+len(row[col]))\n",
    "    return f1score"
   ]
  },
  {
   "cell_type": "code",
   "execution_count": 3,
   "id": "08a0410b",
   "metadata": {
    "scrolled": false
   },
   "outputs": [
    {
     "name": "stdout",
     "output_type": "stream",
     "text": [
      "this submission notebook will compute CV score, but commit notebook will not\n",
      "train shape is (34250, 6)\n"
     ]
    },
    {
     "data": {
      "text/html": [
       "<div>\n",
       "<style scoped>\n",
       "    .dataframe tbody tr th:only-of-type {\n",
       "        vertical-align: middle;\n",
       "    }\n",
       "\n",
       "    .dataframe tbody tr th {\n",
       "        vertical-align: top;\n",
       "    }\n",
       "\n",
       "    .dataframe thead th {\n",
       "        text-align: right;\n",
       "    }\n",
       "</style>\n",
       "<table border=\"1\" class=\"dataframe\">\n",
       "  <thead>\n",
       "    <tr style=\"text-align: right;\">\n",
       "      <th></th>\n",
       "      <th>posting_id</th>\n",
       "      <th>image</th>\n",
       "      <th>image_phash</th>\n",
       "      <th>title</th>\n",
       "      <th>label_group</th>\n",
       "      <th>target</th>\n",
       "    </tr>\n",
       "  </thead>\n",
       "  <tbody>\n",
       "    <tr>\n",
       "      <th>0</th>\n",
       "      <td>train_129225211</td>\n",
       "      <td>./data/train_images/0000a68812bc7e98c42888dfb1...</td>\n",
       "      <td>94974f937d4c2433</td>\n",
       "      <td>Paper Bag Victoria Secret</td>\n",
       "      <td>249114794</td>\n",
       "      <td>[train_129225211, train_2278313361]</td>\n",
       "    </tr>\n",
       "    <tr>\n",
       "      <th>1</th>\n",
       "      <td>train_3386243561</td>\n",
       "      <td>./data/train_images/00039780dfc94d01db8676fe78...</td>\n",
       "      <td>af3f9460c2838f0f</td>\n",
       "      <td>Double Tape 3M VHB 12 mm x 4,5 m ORIGINAL / DO...</td>\n",
       "      <td>2937985045</td>\n",
       "      <td>[train_3386243561, train_3423213080]</td>\n",
       "    </tr>\n",
       "    <tr>\n",
       "      <th>2</th>\n",
       "      <td>train_2288590299</td>\n",
       "      <td>./data/train_images/000a190fdd715a2a36faed16e2...</td>\n",
       "      <td>b94cb00ed3e50f78</td>\n",
       "      <td>Maling TTS Canned Pork Luncheon Meat 397 gr</td>\n",
       "      <td>2395904891</td>\n",
       "      <td>[train_2288590299, train_3803689425]</td>\n",
       "    </tr>\n",
       "    <tr>\n",
       "      <th>3</th>\n",
       "      <td>train_2406599165</td>\n",
       "      <td>./data/train_images/00117e4fc239b1b641ff08340b...</td>\n",
       "      <td>8514fc58eafea283</td>\n",
       "      <td>Daster Batik Lengan pendek - Motif Acak / Camp...</td>\n",
       "      <td>4093212188</td>\n",
       "      <td>[train_2406599165, train_3342059966]</td>\n",
       "    </tr>\n",
       "    <tr>\n",
       "      <th>4</th>\n",
       "      <td>train_3369186413</td>\n",
       "      <td>./data/train_images/00136d1cf4edede0203f32f05f...</td>\n",
       "      <td>a6f319f924ad708c</td>\n",
       "      <td>Nescafe \\xc3\\x89clair Latte 220ml</td>\n",
       "      <td>3648931069</td>\n",
       "      <td>[train_3369186413, train_921438619]</td>\n",
       "    </tr>\n",
       "  </tbody>\n",
       "</table>\n",
       "</div>"
      ],
      "text/plain": [
       "         posting_id                                              image  \\\n",
       "0   train_129225211  ./data/train_images/0000a68812bc7e98c42888dfb1...   \n",
       "1  train_3386243561  ./data/train_images/00039780dfc94d01db8676fe78...   \n",
       "2  train_2288590299  ./data/train_images/000a190fdd715a2a36faed16e2...   \n",
       "3  train_2406599165  ./data/train_images/00117e4fc239b1b641ff08340b...   \n",
       "4  train_3369186413  ./data/train_images/00136d1cf4edede0203f32f05f...   \n",
       "\n",
       "        image_phash                                              title  \\\n",
       "0  94974f937d4c2433                          Paper Bag Victoria Secret   \n",
       "1  af3f9460c2838f0f  Double Tape 3M VHB 12 mm x 4,5 m ORIGINAL / DO...   \n",
       "2  b94cb00ed3e50f78        Maling TTS Canned Pork Luncheon Meat 397 gr   \n",
       "3  8514fc58eafea283  Daster Batik Lengan pendek - Motif Acak / Camp...   \n",
       "4  a6f319f924ad708c                  Nescafe \\xc3\\x89clair Latte 220ml   \n",
       "\n",
       "   label_group                                target  \n",
       "0    249114794   [train_129225211, train_2278313361]  \n",
       "1   2937985045  [train_3386243561, train_3423213080]  \n",
       "2   2395904891  [train_2288590299, train_3803689425]  \n",
       "3   4093212188  [train_2406599165, train_3342059966]  \n",
       "4   3648931069   [train_3369186413, train_921438619]  "
      ]
     },
     "execution_count": 3,
     "metadata": {},
     "output_type": "execute_result"
    }
   ],
   "source": [
    "COMPUTE_CV = True\n",
    "\n",
    "test = pd.read_csv(DATA_PATH + 'test.csv')\n",
    "if len(test)>3: COMPUTE_CV = False\n",
    "else: print('this submission notebook will compute CV score, but commit notebook will not')\n",
    "\n",
    "# COMPUTE_CV = False\n",
    "\n",
    "if COMPUTE_CV:\n",
    "    train = pd.read_csv(DATA_PATH + 'train.csv')\n",
    "    # 이미지 컬럼에 이미지 경로 삽입\n",
    "    train['image'] = DATA_PATH + 'train_images/' + train['image']\n",
    "    # target은 자신의 posting_id와 label이 같은 하나의 이미지의 posting_id를 엮은 것\n",
    "    tmp = train.groupby('label_group').posting_id.agg('unique').to_dict()\n",
    "    train['target'] = train.label_group.map(tmp)\n",
    "else:\n",
    "    train = pd.read_csv(DATA_PATH + 'test.csv')\n",
    "    train['image'] = DATA_PATH + 'test_images/' + train['image']\n",
    "    \n",
    "print('train shape is', train.shape )\n",
    "train.head()"
   ]
  },
  {
   "cell_type": "markdown",
   "id": "1f7b18bb",
   "metadata": {},
   "source": [
    "##### target이 뭘까 == label이 같은 이미지"
   ]
  },
  {
   "cell_type": "code",
   "execution_count": 10,
   "id": "85e3d5e9",
   "metadata": {
    "scrolled": false
   },
   "outputs": [
    {
     "data": {
      "text/html": [
       "<div>\n",
       "<style scoped>\n",
       "    .dataframe tbody tr th:only-of-type {\n",
       "        vertical-align: middle;\n",
       "    }\n",
       "\n",
       "    .dataframe tbody tr th {\n",
       "        vertical-align: top;\n",
       "    }\n",
       "\n",
       "    .dataframe thead th {\n",
       "        text-align: right;\n",
       "    }\n",
       "</style>\n",
       "<table border=\"1\" class=\"dataframe\">\n",
       "  <thead>\n",
       "    <tr style=\"text-align: right;\">\n",
       "      <th></th>\n",
       "      <th>posting_id</th>\n",
       "      <th>label_group</th>\n",
       "      <th>target</th>\n",
       "    </tr>\n",
       "  </thead>\n",
       "  <tbody>\n",
       "    <tr>\n",
       "      <th>0</th>\n",
       "      <td>train_129225211</td>\n",
       "      <td>249114794</td>\n",
       "      <td>[train_129225211, train_2278313361]</td>\n",
       "    </tr>\n",
       "  </tbody>\n",
       "</table>\n",
       "</div>"
      ],
      "text/plain": [
       "        posting_id  label_group                               target\n",
       "0  train_129225211    249114794  [train_129225211, train_2278313361]"
      ]
     },
     "metadata": {},
     "output_type": "display_data"
    },
    {
     "data": {
      "text/html": [
       "<div>\n",
       "<style scoped>\n",
       "    .dataframe tbody tr th:only-of-type {\n",
       "        vertical-align: middle;\n",
       "    }\n",
       "\n",
       "    .dataframe tbody tr th {\n",
       "        vertical-align: top;\n",
       "    }\n",
       "\n",
       "    .dataframe thead th {\n",
       "        text-align: right;\n",
       "    }\n",
       "</style>\n",
       "<table border=\"1\" class=\"dataframe\">\n",
       "  <thead>\n",
       "    <tr style=\"text-align: right;\">\n",
       "      <th></th>\n",
       "      <th>posting_id</th>\n",
       "      <th>label_group</th>\n",
       "      <th>target</th>\n",
       "    </tr>\n",
       "  </thead>\n",
       "  <tbody>\n",
       "    <tr>\n",
       "      <th>33161</th>\n",
       "      <td>train_2278313361</td>\n",
       "      <td>249114794</td>\n",
       "      <td>[train_129225211, train_2278313361]</td>\n",
       "    </tr>\n",
       "  </tbody>\n",
       "</table>\n",
       "</div>"
      ],
      "text/plain": [
       "             posting_id  label_group                               target\n",
       "33161  train_2278313361    249114794  [train_129225211, train_2278313361]"
      ]
     },
     "metadata": {},
     "output_type": "display_data"
    }
   ],
   "source": [
    "display(train.loc[train['posting_id']=='train_129225211',['posting_id','label_group','target']])\n",
    "display(train.loc[train['posting_id']=='train_2278313361',['posting_id','label_group','target']])"
   ]
  },
  {
   "cell_type": "markdown",
   "id": "99b45661",
   "metadata": {},
   "source": [
    "### TF-IDF: \n",
    "#### 특정 단어의 상대적인 빈도수를 나타내주는 값\n",
    "#### 문서 내 단어들의 빈도를 기준으로 가중치를 정해 특징을 추출하는 것"
   ]
  },
  {
   "cell_type": "code",
   "execution_count": 13,
   "id": "37ad77b4",
   "metadata": {},
   "outputs": [
    {
     "name": "stdout",
     "output_type": "stream",
     "text": [
      "text embeddings shape (34250, 24939)\n"
     ]
    }
   ],
   "source": [
    "from sklearn.feature_extraction.text import TfidfVectorizer\n",
    "\n",
    "# stop_words: you, your, i, me 같은 자주 사용되나 의미 없는 단어 제거\n",
    "model = TfidfVectorizer(stop_words='english', binary=True, max_features=55000)\n",
    "\n",
    "# train의 title 데이터를 벡터 속 좌표화\n",
    "text_embeddings = model.fit_transform(train.title).toarray()\n",
    "print('text embeddings shape',text_embeddings.shape)"
   ]
  },
  {
   "cell_type": "code",
   "execution_count": 14,
   "id": "507deb7e",
   "metadata": {},
   "outputs": [],
   "source": [
    "import torch\n",
    "\n",
    "\n",
    "text_embeddings = torch.from_numpy(text_embeddings)\n",
    "# cuda: NVIDIA가 만든 병렬 컴퓨팅 플랫폼 및 API 모델\n",
    "#       GPU에서 실행되도록 할당하는 것\n",
    "text_embeddings = text_embeddings.cuda()"
   ]
  },
  {
   "cell_type": "markdown",
   "id": "8027d606",
   "metadata": {},
   "source": [
    "#### Embedding: 우리가 표현하고자 하는 대상을 벡터공간의 좌표로 매핑하고 표현하는 과정"
   ]
  },
  {
   "cell_type": "code",
   "execution_count": 18,
   "id": "3399b116",
   "metadata": {
    "scrolled": true
   },
   "outputs": [
    {
     "name": "stdout",
     "output_type": "stream",
     "text": [
      "tensor([[0., 0., 0.,  ..., 0., 0., 0.],\n",
      "        [0., 0., 0.,  ..., 0., 0., 0.],\n",
      "        [0., 0., 0.,  ..., 0., 0., 0.],\n",
      "        ...,\n",
      "        [0., 0., 0.,  ..., 0., 0., 0.],\n",
      "        [0., 0., 0.,  ..., 0., 0., 0.],\n",
      "        [0., 0., 0.,  ..., 0., 0., 0.]], device='cuda:0', dtype=torch.float64)\n",
      "tensor([[1.0000, 0.0000, 0.0000,  ..., 0.0000, 0.0000, 0.0000],\n",
      "        [0.0000, 1.0000, 0.0000,  ..., 0.0000, 0.0000, 0.1067],\n",
      "        [0.0000, 0.0000, 1.0000,  ..., 0.0000, 0.0000, 0.0000],\n",
      "        ...,\n",
      "        [0.0000, 0.0000, 0.0000,  ..., 0.0000, 0.0000, 0.0000],\n",
      "        [0.0000, 0.0000, 0.0000,  ..., 0.0000, 0.0000, 0.0000],\n",
      "        [0.0000, 0.0000, 0.0000,  ..., 0.0000, 0.0000, 0.0000]],\n",
      "       device='cuda:0', dtype=torch.float64)\n"
     ]
    }
   ],
   "source": [
    "print(text_embeddings)\n",
    "print(torch.matmul(text_embeddings, text_embeddings[0:1024].T).T)"
   ]
  },
  {
   "cell_type": "markdown",
   "id": "85dd4be1",
   "metadata": {},
   "source": [
    "### 학습"
   ]
  },
  {
   "cell_type": "code",
   "execution_count": 20,
   "id": "30cacad6",
   "metadata": {},
   "outputs": [
    {
     "name": "stdout",
     "output_type": "stream",
     "text": [
      "Finding similar titles...\n",
      "chunk 0 to 1024\n",
      "(1024, 34250)\n",
      "chunk 1024 to 2048\n",
      "(1024, 34250)\n",
      "chunk 2048 to 3072\n",
      "(1024, 34250)\n",
      "chunk 3072 to 4096\n",
      "(1024, 34250)\n",
      "chunk 4096 to 5120\n",
      "(1024, 34250)\n",
      "chunk 5120 to 6144\n",
      "(1024, 34250)\n",
      "chunk 6144 to 7168\n",
      "(1024, 34250)\n",
      "chunk 7168 to 8192\n",
      "(1024, 34250)\n",
      "chunk 8192 to 9216\n",
      "(1024, 34250)\n",
      "chunk 9216 to 10240\n",
      "(1024, 34250)\n",
      "chunk 10240 to 11264\n",
      "(1024, 34250)\n",
      "chunk 11264 to 12288\n",
      "(1024, 34250)\n",
      "chunk 12288 to 13312\n",
      "(1024, 34250)\n",
      "chunk 13312 to 14336\n",
      "(1024, 34250)\n",
      "chunk 14336 to 15360\n",
      "(1024, 34250)\n",
      "chunk 15360 to 16384\n",
      "(1024, 34250)\n",
      "chunk 16384 to 17408\n",
      "(1024, 34250)\n",
      "chunk 17408 to 18432\n",
      "(1024, 34250)\n",
      "chunk 18432 to 19456\n",
      "(1024, 34250)\n",
      "chunk 19456 to 20480\n",
      "(1024, 34250)\n",
      "chunk 20480 to 21504\n",
      "(1024, 34250)\n",
      "chunk 21504 to 22528\n",
      "(1024, 34250)\n",
      "chunk 22528 to 23552\n",
      "(1024, 34250)\n",
      "chunk 23552 to 24576\n",
      "(1024, 34250)\n",
      "chunk 24576 to 25600\n",
      "(1024, 34250)\n",
      "chunk 25600 to 26624\n",
      "(1024, 34250)\n",
      "chunk 26624 to 27648\n",
      "(1024, 34250)\n",
      "chunk 27648 to 28672\n",
      "(1024, 34250)\n",
      "chunk 28672 to 29696\n",
      "(1024, 34250)\n",
      "chunk 29696 to 30720\n",
      "(1024, 34250)\n",
      "chunk 30720 to 31744\n",
      "(1024, 34250)\n",
      "chunk 31744 to 32768\n",
      "(1024, 34250)\n",
      "chunk 32768 to 33792\n",
      "(1024, 34250)\n",
      "chunk 33792 to 34250\n",
      "(458, 34250)\n"
     ]
    }
   ],
   "source": [
    "preds = []\n",
    "CHUNK = 1024\n",
    "\n",
    "print('Finding similar titles...')\n",
    "CTS = len(train)//CHUNK\n",
    "if len(train)%CHUNK!=0: CTS += 1\n",
    "CTS_index = 0\n",
    "for j in range( CTS ):\n",
    "    \n",
    "    a = j*CHUNK\n",
    "    b = (j+1)*CHUNK\n",
    "    b = min(b,len(train))\n",
    "    print('chunk',a,'to',b)\n",
    "    \n",
    "    # COSINE SIMILARITY DISTANCE\n",
    "    # cts = np.dot( text_embeddings, text_embeddings[a:b].T).T\n",
    "    cts = torch.matmul(text_embeddings, text_embeddings[a:b].T).T\n",
    "    cts = cts.data.cpu().numpy()\n",
    "    print(cts.shape)\n",
    "    for k in range(b-a):\n",
    "        # IDX = np.where(cts[k,]>0.7)[0]\n",
    "        IDX = np.where(cts[k,]>0.7)[0]\n",
    "        o = train.iloc[IDX].posting_id.values\n",
    "        preds.append(o.tolist())\n",
    "        CTS_index += 1\n",
    "# del model, text_embeddings"
   ]
  },
  {
   "cell_type": "markdown",
   "id": "f8a50ac8",
   "metadata": {},
   "source": [
    "### 최종 정확도 출력\n",
    "#### 0.6139718474362906"
   ]
  },
  {
   "cell_type": "code",
   "execution_count": 33,
   "id": "cdf04bde",
   "metadata": {
    "scrolled": false
   },
   "outputs": [
    {
     "name": "stdout",
     "output_type": "stream",
     "text": [
      "CV score for baseline = 0.6139718474362906\n"
     ]
    }
   ],
   "source": [
    "# 예측값을 off_text에 삽입\n",
    "train['oof_text'] = preds\n",
    "\n",
    "if COMPUTE_CV:\n",
    "    train['f1'] = train.apply(getMetric('oof_text'),axis=1)\n",
    "    print('CV score for baseline =',train.f1.mean())"
   ]
  },
  {
   "cell_type": "markdown",
   "id": "62733e41",
   "metadata": {},
   "source": [
    "#### oof_text(prediction 값) 확인"
   ]
  },
  {
   "cell_type": "code",
   "execution_count": 34,
   "id": "fcccbdc4",
   "metadata": {},
   "outputs": [
    {
     "data": {
      "text/html": [
       "<div>\n",
       "<style scoped>\n",
       "    .dataframe tbody tr th:only-of-type {\n",
       "        vertical-align: middle;\n",
       "    }\n",
       "\n",
       "    .dataframe tbody tr th {\n",
       "        vertical-align: top;\n",
       "    }\n",
       "\n",
       "    .dataframe thead th {\n",
       "        text-align: right;\n",
       "    }\n",
       "</style>\n",
       "<table border=\"1\" class=\"dataframe\">\n",
       "  <thead>\n",
       "    <tr style=\"text-align: right;\">\n",
       "      <th></th>\n",
       "      <th>posting_id</th>\n",
       "      <th>image</th>\n",
       "      <th>image_phash</th>\n",
       "      <th>title</th>\n",
       "      <th>label_group</th>\n",
       "      <th>target</th>\n",
       "      <th>oof_text</th>\n",
       "      <th>f1</th>\n",
       "    </tr>\n",
       "  </thead>\n",
       "  <tbody>\n",
       "    <tr>\n",
       "      <th>0</th>\n",
       "      <td>train_129225211</td>\n",
       "      <td>./data/train_images/0000a68812bc7e98c42888dfb1...</td>\n",
       "      <td>94974f937d4c2433</td>\n",
       "      <td>Paper Bag Victoria Secret</td>\n",
       "      <td>249114794</td>\n",
       "      <td>[train_129225211, train_2278313361]</td>\n",
       "      <td>[train_129225211, train_2278313361]</td>\n",
       "      <td>1.000000</td>\n",
       "    </tr>\n",
       "    <tr>\n",
       "      <th>1</th>\n",
       "      <td>train_3386243561</td>\n",
       "      <td>./data/train_images/00039780dfc94d01db8676fe78...</td>\n",
       "      <td>af3f9460c2838f0f</td>\n",
       "      <td>Double Tape 3M VHB 12 mm x 4,5 m ORIGINAL / DO...</td>\n",
       "      <td>2937985045</td>\n",
       "      <td>[train_3386243561, train_3423213080]</td>\n",
       "      <td>[train_3386243561]</td>\n",
       "      <td>0.666667</td>\n",
       "    </tr>\n",
       "    <tr>\n",
       "      <th>2</th>\n",
       "      <td>train_2288590299</td>\n",
       "      <td>./data/train_images/000a190fdd715a2a36faed16e2...</td>\n",
       "      <td>b94cb00ed3e50f78</td>\n",
       "      <td>Maling TTS Canned Pork Luncheon Meat 397 gr</td>\n",
       "      <td>2395904891</td>\n",
       "      <td>[train_2288590299, train_3803689425]</td>\n",
       "      <td>[train_2288590299]</td>\n",
       "      <td>0.666667</td>\n",
       "    </tr>\n",
       "    <tr>\n",
       "      <th>3</th>\n",
       "      <td>train_2406599165</td>\n",
       "      <td>./data/train_images/00117e4fc239b1b641ff08340b...</td>\n",
       "      <td>8514fc58eafea283</td>\n",
       "      <td>Daster Batik Lengan pendek - Motif Acak / Camp...</td>\n",
       "      <td>4093212188</td>\n",
       "      <td>[train_2406599165, train_3342059966]</td>\n",
       "      <td>[train_2406599165, train_3576714541, train_150...</td>\n",
       "      <td>0.285714</td>\n",
       "    </tr>\n",
       "    <tr>\n",
       "      <th>4</th>\n",
       "      <td>train_3369186413</td>\n",
       "      <td>./data/train_images/00136d1cf4edede0203f32f05f...</td>\n",
       "      <td>a6f319f924ad708c</td>\n",
       "      <td>Nescafe \\xc3\\x89clair Latte 220ml</td>\n",
       "      <td>3648931069</td>\n",
       "      <td>[train_3369186413, train_921438619]</td>\n",
       "      <td>[train_3369186413]</td>\n",
       "      <td>0.666667</td>\n",
       "    </tr>\n",
       "  </tbody>\n",
       "</table>\n",
       "</div>"
      ],
      "text/plain": [
       "         posting_id                                              image  \\\n",
       "0   train_129225211  ./data/train_images/0000a68812bc7e98c42888dfb1...   \n",
       "1  train_3386243561  ./data/train_images/00039780dfc94d01db8676fe78...   \n",
       "2  train_2288590299  ./data/train_images/000a190fdd715a2a36faed16e2...   \n",
       "3  train_2406599165  ./data/train_images/00117e4fc239b1b641ff08340b...   \n",
       "4  train_3369186413  ./data/train_images/00136d1cf4edede0203f32f05f...   \n",
       "\n",
       "        image_phash                                              title  \\\n",
       "0  94974f937d4c2433                          Paper Bag Victoria Secret   \n",
       "1  af3f9460c2838f0f  Double Tape 3M VHB 12 mm x 4,5 m ORIGINAL / DO...   \n",
       "2  b94cb00ed3e50f78        Maling TTS Canned Pork Luncheon Meat 397 gr   \n",
       "3  8514fc58eafea283  Daster Batik Lengan pendek - Motif Acak / Camp...   \n",
       "4  a6f319f924ad708c                  Nescafe \\xc3\\x89clair Latte 220ml   \n",
       "\n",
       "   label_group                                target  \\\n",
       "0    249114794   [train_129225211, train_2278313361]   \n",
       "1   2937985045  [train_3386243561, train_3423213080]   \n",
       "2   2395904891  [train_2288590299, train_3803689425]   \n",
       "3   4093212188  [train_2406599165, train_3342059966]   \n",
       "4   3648931069   [train_3369186413, train_921438619]   \n",
       "\n",
       "                                            oof_text        f1  \n",
       "0                [train_129225211, train_2278313361]  1.000000  \n",
       "1                                 [train_3386243561]  0.666667  \n",
       "2                                 [train_2288590299]  0.666667  \n",
       "3  [train_2406599165, train_3576714541, train_150...  0.285714  \n",
       "4                                 [train_3369186413]  0.666667  "
      ]
     },
     "metadata": {},
     "output_type": "display_data"
    }
   ],
   "source": [
    "display(train.head())"
   ]
  },
  {
   "cell_type": "markdown",
   "id": "57186a3c",
   "metadata": {},
   "source": [
    "#### oof_text 속 posting_id들의 label_group이 다르면 정확도가 낮게 나옴"
   ]
  },
  {
   "cell_type": "code",
   "execution_count": 37,
   "id": "1acac4fb",
   "metadata": {},
   "outputs": [
    {
     "data": {
      "text/html": [
       "<div>\n",
       "<style scoped>\n",
       "    .dataframe tbody tr th:only-of-type {\n",
       "        vertical-align: middle;\n",
       "    }\n",
       "\n",
       "    .dataframe tbody tr th {\n",
       "        vertical-align: top;\n",
       "    }\n",
       "\n",
       "    .dataframe thead th {\n",
       "        text-align: right;\n",
       "    }\n",
       "</style>\n",
       "<table border=\"1\" class=\"dataframe\">\n",
       "  <thead>\n",
       "    <tr style=\"text-align: right;\">\n",
       "      <th></th>\n",
       "      <th>posting_id</th>\n",
       "      <th>label_group</th>\n",
       "      <th>target</th>\n",
       "      <th>oof_text</th>\n",
       "      <th>f1</th>\n",
       "    </tr>\n",
       "  </thead>\n",
       "  <tbody>\n",
       "    <tr>\n",
       "      <th>3</th>\n",
       "      <td>train_2406599165</td>\n",
       "      <td>4093212188</td>\n",
       "      <td>[train_2406599165, train_3342059966]</td>\n",
       "      <td>[train_2406599165, train_3576714541, train_150...</td>\n",
       "      <td>0.285714</td>\n",
       "    </tr>\n",
       "  </tbody>\n",
       "</table>\n",
       "</div>"
      ],
      "text/plain": [
       "         posting_id  label_group                                target  \\\n",
       "3  train_2406599165   4093212188  [train_2406599165, train_3342059966]   \n",
       "\n",
       "                                            oof_text        f1  \n",
       "3  [train_2406599165, train_3576714541, train_150...  0.285714  "
      ]
     },
     "metadata": {},
     "output_type": "display_data"
    },
    {
     "data": {
      "text/html": [
       "<div>\n",
       "<style scoped>\n",
       "    .dataframe tbody tr th:only-of-type {\n",
       "        vertical-align: middle;\n",
       "    }\n",
       "\n",
       "    .dataframe tbody tr th {\n",
       "        vertical-align: top;\n",
       "    }\n",
       "\n",
       "    .dataframe thead th {\n",
       "        text-align: right;\n",
       "    }\n",
       "</style>\n",
       "<table border=\"1\" class=\"dataframe\">\n",
       "  <thead>\n",
       "    <tr style=\"text-align: right;\">\n",
       "      <th></th>\n",
       "      <th>posting_id</th>\n",
       "      <th>label_group</th>\n",
       "      <th>target</th>\n",
       "      <th>oof_text</th>\n",
       "      <th>f1</th>\n",
       "    </tr>\n",
       "  </thead>\n",
       "  <tbody>\n",
       "    <tr>\n",
       "      <th>2522</th>\n",
       "      <td>train_3576714541</td>\n",
       "      <td>264184112</td>\n",
       "      <td>[train_3576714541, train_1762379453]</td>\n",
       "      <td>[train_2406599165, train_3576714541, train_174...</td>\n",
       "      <td>0.333333</td>\n",
       "    </tr>\n",
       "  </tbody>\n",
       "</table>\n",
       "</div>"
      ],
      "text/plain": [
       "            posting_id  label_group                                target  \\\n",
       "2522  train_3576714541    264184112  [train_3576714541, train_1762379453]   \n",
       "\n",
       "                                               oof_text        f1  \n",
       "2522  [train_2406599165, train_3576714541, train_174...  0.333333  "
      ]
     },
     "metadata": {},
     "output_type": "display_data"
    }
   ],
   "source": [
    "display(train.loc[train['posting_id']=='train_2406599165',['posting_id','label_group','target','oof_text','f1']])\n",
    "display(train.loc[train['posting_id']=='train_3576714541',['posting_id','label_group','target','oof_text','f1']])"
   ]
  }
 ],
 "metadata": {
  "kernelspec": {
   "display_name": "Python [conda env:cnn_env] *",
   "language": "python",
   "name": "conda-env-cnn_env-py"
  },
  "language_info": {
   "codemirror_mode": {
    "name": "ipython",
    "version": 3
   },
   "file_extension": ".py",
   "mimetype": "text/x-python",
   "name": "python",
   "nbconvert_exporter": "python",
   "pygments_lexer": "ipython3",
   "version": "3.7.10"
  }
 },
 "nbformat": 4,
 "nbformat_minor": 5
}
